{
 "cells": [
  {
   "cell_type": "markdown",
   "id": "36ef9f7a",
   "metadata": {
    "slideshow": {
     "slide_type": "slide"
    }
   },
   "source": [
    "# Workshop right. - Emanuele Pepe\n",
    "### Predict emissions"
   ]
  },
  {
   "cell_type": "code",
   "execution_count": 1,
   "id": "d509ccd4",
   "metadata": {
    "slideshow": {
     "slide_type": "slide"
    }
   },
   "outputs": [],
   "source": [
    "import pandas as pd\n",
    "import numpy as np\n",
    "import matplotlib.pyplot as plt\n",
    "import seaborn as sns\n",
    "from sklearn import set_config; set_config(display='diagram')"
   ]
  },
  {
   "cell_type": "code",
   "execution_count": 2,
   "id": "b8f7b45c",
   "metadata": {
    "slideshow": {
     "slide_type": "subslide"
    }
   },
   "outputs": [],
   "source": [
    "from scipy import stats\n",
    "\n",
    "# sklearn preproc\n",
    "from sklearn.model_selection import train_test_split\n",
    "from sklearn.preprocessing import MinMaxScaler, StandardScaler\n",
    "from sklearn.pipeline import Pipeline, make_pipeline\n",
    "from sklearn.compose import ColumnTransformer, make_column_transformer, make_column_selector\n",
    "from sklearn.impute import SimpleImputer, KNNImputer\n",
    "from sklearn.preprocessing import RobustScaler, OneHotEncoder, OrdinalEncoder\n",
    "from sklearn.metrics import make_scorer\n",
    "\n",
    "from sklearn.model_selection import cross_val_score\n",
    "from sklearn.neighbors import KNeighborsRegressor\n",
    "from sklearn.linear_model import Ridge, Lasso, LinearRegression\n",
    "from sklearn.model_selection import RandomizedSearchCV\n",
    "from sklearn.svm import SVR\n",
    "from sklearn.model_selection import GridSearchCV, RandomizedSearchCV\n",
    "from sklearn.ensemble import AdaBoostRegressor\n",
    "from sklearn.tree import DecisionTreeRegressor\n",
    "from sklearn.ensemble import VotingRegressor\n",
    "from sklearn.ensemble import GradientBoostingRegressor\n",
    "from sklearn.ensemble import StackingRegressor\n",
    "from sklearn.ensemble import RandomForestRegressor"
   ]
  },
  {
   "cell_type": "markdown",
   "id": "62cd9a09",
   "metadata": {
    "slideshow": {
     "slide_type": "subslide"
    }
   },
   "source": [
    "## Load data"
   ]
  },
  {
   "cell_type": "code",
   "execution_count": 3,
   "id": "2477b142",
   "metadata": {
    "scrolled": true,
    "slideshow": {
     "slide_type": "fragment"
    }
   },
   "outputs": [
    {
     "data": {
      "text/html": [
       "<div>\n",
       "<style scoped>\n",
       "    .dataframe tbody tr th:only-of-type {\n",
       "        vertical-align: middle;\n",
       "    }\n",
       "\n",
       "    .dataframe tbody tr th {\n",
       "        vertical-align: top;\n",
       "    }\n",
       "\n",
       "    .dataframe thead th {\n",
       "        text-align: right;\n",
       "    }\n",
       "</style>\n",
       "<table border=\"1\" class=\"dataframe\">\n",
       "  <thead>\n",
       "    <tr style=\"text-align: right;\">\n",
       "      <th></th>\n",
       "      <th>revenue</th>\n",
       "      <th>emission</th>\n",
       "      <th>employee_count</th>\n",
       "      <th>sector</th>\n",
       "      <th>country</th>\n",
       "    </tr>\n",
       "  </thead>\n",
       "  <tbody>\n",
       "    <tr>\n",
       "      <th>0</th>\n",
       "      <td>2264.620046</td>\n",
       "      <td>3.824741e+07</td>\n",
       "      <td>1721</td>\n",
       "      <td>energy</td>\n",
       "      <td>CountryA</td>\n",
       "    </tr>\n",
       "    <tr>\n",
       "      <th>1</th>\n",
       "      <td>4289.369885</td>\n",
       "      <td>5.501518e+07</td>\n",
       "      <td>3850</td>\n",
       "      <td>energy</td>\n",
       "      <td>CountryB</td>\n",
       "    </tr>\n",
       "    <tr>\n",
       "      <th>2</th>\n",
       "      <td>3677.948506</td>\n",
       "      <td>3.731858e+07</td>\n",
       "      <td>1456</td>\n",
       "      <td>energy</td>\n",
       "      <td>CountryB</td>\n",
       "    </tr>\n",
       "    <tr>\n",
       "      <th>3</th>\n",
       "      <td>3710.896732</td>\n",
       "      <td>4.768847e+07</td>\n",
       "      <td>1039</td>\n",
       "      <td>energy</td>\n",
       "      <td>CountryC</td>\n",
       "    </tr>\n",
       "    <tr>\n",
       "      <th>4</th>\n",
       "      <td>5326.161066</td>\n",
       "      <td>2.741059e+07</td>\n",
       "      <td>949</td>\n",
       "      <td>energy</td>\n",
       "      <td>CountryB</td>\n",
       "    </tr>\n",
       "  </tbody>\n",
       "</table>\n",
       "</div>"
      ],
      "text/plain": [
       "       revenue      emission  employee_count  sector   country\n",
       "0  2264.620046  3.824741e+07            1721  energy  CountryA\n",
       "1  4289.369885  5.501518e+07            3850  energy  CountryB\n",
       "2  3677.948506  3.731858e+07            1456  energy  CountryB\n",
       "3  3710.896732  4.768847e+07            1039  energy  CountryC\n",
       "4  5326.161066  2.741059e+07             949  energy  CountryB"
      ]
     },
     "execution_count": 3,
     "metadata": {},
     "output_type": "execute_result"
    }
   ],
   "source": [
    "#col_names = ['revenue','emissions','emp_count','sector','country']\n",
    "data = pd.read_csv('./data/Workshop Data - Data Team.txt',sep='\\t',header='infer')#,names=col_names)\n",
    "data.head()"
   ]
  },
  {
   "cell_type": "markdown",
   "id": "7706eec6",
   "metadata": {
    "slideshow": {
     "slide_type": "slide"
    }
   },
   "source": [
    "## Data exploration\n"
   ]
  },
  {
   "cell_type": "code",
   "execution_count": 4,
   "id": "65fb388d",
   "metadata": {
    "slideshow": {
     "slide_type": "fragment"
    }
   },
   "outputs": [
    {
     "data": {
      "text/plain": [
       "False"
      ]
     },
     "execution_count": 4,
     "metadata": {},
     "output_type": "execute_result"
    }
   ],
   "source": [
    "data.isna().values.any()"
   ]
  },
  {
   "cell_type": "markdown",
   "id": "b127ed55",
   "metadata": {},
   "source": [
    "No explicitly missing data"
   ]
  },
  {
   "cell_type": "code",
   "execution_count": 5,
   "id": "41ddfd4b",
   "metadata": {
    "slideshow": {
     "slide_type": "fragment"
    }
   },
   "outputs": [
    {
     "data": {
      "text/plain": [
       "revenue           float64\n",
       "emission          float64\n",
       "employee_count      int64\n",
       "sector             object\n",
       "country            object\n",
       "dtype: object"
      ]
     },
     "execution_count": 5,
     "metadata": {},
     "output_type": "execute_result"
    }
   ],
   "source": [
    "# Data type are already well set.\n",
    "data.dtypes"
   ]
  },
  {
   "cell_type": "code",
   "execution_count": 6,
   "id": "764e6b3f",
   "metadata": {
    "scrolled": true,
    "slideshow": {
     "slide_type": "fragment"
    }
   },
   "outputs": [
    {
     "data": {
      "text/plain": [
       "1996"
      ]
     },
     "execution_count": 6,
     "metadata": {},
     "output_type": "execute_result"
    }
   ],
   "source": [
    "len(data)"
   ]
  },
  {
   "cell_type": "markdown",
   "id": "8e3b5fa2",
   "metadata": {
    "slideshow": {
     "slide_type": "subslide"
    }
   },
   "source": [
    "## Create dataset and target (emission is the target)"
   ]
  },
  {
   "cell_type": "code",
   "execution_count": 7,
   "id": "56f0b389",
   "metadata": {},
   "outputs": [
    {
     "data": {
      "text/plain": [
       "(1996, 4)"
      ]
     },
     "execution_count": 7,
     "metadata": {},
     "output_type": "execute_result"
    }
   ],
   "source": [
    "X = data.drop(columns=['emission'])\n",
    "y = data['emission']\n",
    "X.shape\n",
    "\n",
    "## Split trining and test/validation set, explain.\n",
    "# test_size = 0.2\n",
    "# X_train, X_test, y_train, y_test = train_test_split(\n",
    "#    X, y, test_size=test_size, random_state=42)\n",
    "# for i in [X_train, X_test, y_train, y_test]:\n",
    "#    print(i.shape)"
   ]
  },
  {
   "cell_type": "markdown",
   "id": "e798887b",
   "metadata": {
    "slideshow": {
     "slide_type": "slide"
    }
   },
   "source": [
    "\n",
    "# Baseline pipeline"
   ]
  },
  {
   "cell_type": "markdown",
   "id": "8ebef8ee",
   "metadata": {
    "slideshow": {
     "slide_type": "subslide"
    }
   },
   "source": [
    "## Preprocessing"
   ]
  },
  {
   "cell_type": "markdown",
   "id": "31a175f9",
   "metadata": {
    "slideshow": {
     "slide_type": "fragment"
    }
   },
   "source": [
    "For numerical features\n",
    "- Min-Max Scale \n",
    "\n",
    "\n",
    "For categorical features\n",
    "- Drop all others features"
   ]
  },
  {
   "cell_type": "code",
   "execution_count": 8,
   "id": "0ad0f610",
   "metadata": {
    "scrolled": true,
    "slideshow": {
     "slide_type": "subslide"
    }
   },
   "outputs": [
    {
     "data": {
      "text/html": [
       "<style>div.sk-top-container {color: black;background-color: white;}div.sk-toggleable {background-color: white;}label.sk-toggleable__label {cursor: pointer;display: block;width: 100%;margin-bottom: 0;padding: 0.2em 0.3em;box-sizing: border-box;text-align: center;}div.sk-toggleable__content {max-height: 0;max-width: 0;overflow: hidden;text-align: left;background-color: #f0f8ff;}div.sk-toggleable__content pre {margin: 0.2em;color: black;border-radius: 0.25em;background-color: #f0f8ff;}input.sk-toggleable__control:checked~div.sk-toggleable__content {max-height: 200px;max-width: 100%;overflow: auto;}div.sk-estimator input.sk-toggleable__control:checked~label.sk-toggleable__label {background-color: #d4ebff;}div.sk-label input.sk-toggleable__control:checked~label.sk-toggleable__label {background-color: #d4ebff;}input.sk-hidden--visually {border: 0;clip: rect(1px 1px 1px 1px);clip: rect(1px, 1px, 1px, 1px);height: 1px;margin: -1px;overflow: hidden;padding: 0;position: absolute;width: 1px;}div.sk-estimator {font-family: monospace;background-color: #f0f8ff;margin: 0.25em 0.25em;border: 1px dotted black;border-radius: 0.25em;box-sizing: border-box;}div.sk-estimator:hover {background-color: #d4ebff;}div.sk-parallel-item::after {content: \"\";width: 100%;border-bottom: 1px solid gray;flex-grow: 1;}div.sk-label:hover label.sk-toggleable__label {background-color: #d4ebff;}div.sk-serial::before {content: \"\";position: absolute;border-left: 1px solid gray;box-sizing: border-box;top: 2em;bottom: 0;left: 50%;}div.sk-serial {display: flex;flex-direction: column;align-items: center;background-color: white;}div.sk-item {z-index: 1;}div.sk-parallel {display: flex;align-items: stretch;justify-content: center;background-color: white;}div.sk-parallel-item {display: flex;flex-direction: column;position: relative;background-color: white;}div.sk-parallel-item:first-child::after {align-self: flex-end;width: 50%;}div.sk-parallel-item:last-child::after {align-self: flex-start;width: 50%;}div.sk-parallel-item:only-child::after {width: 0;}div.sk-dashed-wrapped {border: 1px dashed gray;margin: 0.2em;box-sizing: border-box;padding-bottom: 0.1em;background-color: white;position: relative;}div.sk-label label {font-family: monospace;font-weight: bold;background-color: white;display: inline-block;line-height: 1.2em;}div.sk-label-container {position: relative;z-index: 2;text-align: center;}div.sk-container {display: inline-block;position: relative;}</style><div class=\"sk-top-container\"><div class=\"sk-container\"><div class=\"sk-item sk-dashed-wrapped\"><div class=\"sk-label-container\"><div class=\"sk-label sk-toggleable\"><input class=\"sk-toggleable__control sk-hidden--visually\" id=\"1d87eaa3-d554-4e1d-bb1d-27099981a0ed\" type=\"checkbox\" ><label class=\"sk-toggleable__label\" for=\"1d87eaa3-d554-4e1d-bb1d-27099981a0ed\">ColumnTransformer</label><div class=\"sk-toggleable__content\"><pre>ColumnTransformer(transformers=[('pipeline-1',\n",
       "                                 Pipeline(steps=[('minmaxscaler',\n",
       "                                                  MinMaxScaler())]),\n",
       "                                 <sklearn.compose._column_transformer.make_column_selector object at 0x7f4c932e4be0>),\n",
       "                                ('pipeline-2',\n",
       "                                 Pipeline(steps=[('onehotencoder',\n",
       "                                                  OneHotEncoder(handle_unknown='ignore'))]),\n",
       "                                 <sklearn.compose._column_transformer.make_column_selector object at 0x7f4c932e4c40>)])</pre></div></div></div><div class=\"sk-parallel\"><div class=\"sk-parallel-item\"><div class=\"sk-item\"><div class=\"sk-label-container\"><div class=\"sk-label sk-toggleable\"><input class=\"sk-toggleable__control sk-hidden--visually\" id=\"9a7009a8-c61b-49b2-83cf-1d85b615a471\" type=\"checkbox\" ><label class=\"sk-toggleable__label\" for=\"9a7009a8-c61b-49b2-83cf-1d85b615a471\">pipeline-1</label><div class=\"sk-toggleable__content\"><pre><sklearn.compose._column_transformer.make_column_selector object at 0x7f4c932e4be0></pre></div></div></div><div class=\"sk-serial\"><div class=\"sk-item\"><div class=\"sk-serial\"><div class=\"sk-item\"><div class=\"sk-estimator sk-toggleable\"><input class=\"sk-toggleable__control sk-hidden--visually\" id=\"82ed714e-d2f5-4612-89ed-0b4912e14560\" type=\"checkbox\" ><label class=\"sk-toggleable__label\" for=\"82ed714e-d2f5-4612-89ed-0b4912e14560\">MinMaxScaler</label><div class=\"sk-toggleable__content\"><pre>MinMaxScaler()</pre></div></div></div></div></div></div></div></div><div class=\"sk-parallel-item\"><div class=\"sk-item\"><div class=\"sk-label-container\"><div class=\"sk-label sk-toggleable\"><input class=\"sk-toggleable__control sk-hidden--visually\" id=\"88765be0-86e0-426d-98d2-6cb098ee8c34\" type=\"checkbox\" ><label class=\"sk-toggleable__label\" for=\"88765be0-86e0-426d-98d2-6cb098ee8c34\">pipeline-2</label><div class=\"sk-toggleable__content\"><pre><sklearn.compose._column_transformer.make_column_selector object at 0x7f4c932e4c40></pre></div></div></div><div class=\"sk-serial\"><div class=\"sk-item\"><div class=\"sk-serial\"><div class=\"sk-item\"><div class=\"sk-estimator sk-toggleable\"><input class=\"sk-toggleable__control sk-hidden--visually\" id=\"f8370741-eeed-409a-b739-9a22361ee11a\" type=\"checkbox\" ><label class=\"sk-toggleable__label\" for=\"f8370741-eeed-409a-b739-9a22361ee11a\">OneHotEncoder</label><div class=\"sk-toggleable__content\"><pre>OneHotEncoder(handle_unknown='ignore')</pre></div></div></div></div></div></div></div></div></div></div></div></div>"
      ],
      "text/plain": [
       "ColumnTransformer(transformers=[('pipeline-1',\n",
       "                                 Pipeline(steps=[('minmaxscaler',\n",
       "                                                  MinMaxScaler())]),\n",
       "                                 <sklearn.compose._column_transformer.make_column_selector object at 0x7f4c932e4be0>),\n",
       "                                ('pipeline-2',\n",
       "                                 Pipeline(steps=[('onehotencoder',\n",
       "                                                  OneHotEncoder(handle_unknown='ignore'))]),\n",
       "                                 <sklearn.compose._column_transformer.make_column_selector object at 0x7f4c932e4c40>)])"
      ]
     },
     "execution_count": 8,
     "metadata": {},
     "output_type": "execute_result"
    }
   ],
   "source": [
    "# Preprocessing pipeline\n",
    "preproc_numerical_baseline = make_pipeline(\n",
    "    MinMaxScaler())\n",
    "\n",
    "preproc_categorical_baseline = make_pipeline(\n",
    "    OneHotEncoder(handle_unknown=\"ignore\"))\n",
    "\n",
    "preproc_baseline = make_column_transformer(\n",
    "    (preproc_numerical_baseline, make_column_selector(dtype_include=[\"int64\", \"float64\"])),\n",
    "    (preproc_categorical_baseline, make_column_selector(dtype_include=[\"object\"])),\n",
    "    remainder=\"drop\")\n",
    "\n",
    "preproc_baseline"
   ]
  },
  {
   "cell_type": "code",
   "execution_count": 9,
   "id": "c5a4b006",
   "metadata": {
    "slideshow": {
     "slide_type": "subslide"
    }
   },
   "outputs": [
    {
     "data": {
      "text/html": [
       "<style>div.sk-top-container {color: black;background-color: white;}div.sk-toggleable {background-color: white;}label.sk-toggleable__label {cursor: pointer;display: block;width: 100%;margin-bottom: 0;padding: 0.2em 0.3em;box-sizing: border-box;text-align: center;}div.sk-toggleable__content {max-height: 0;max-width: 0;overflow: hidden;text-align: left;background-color: #f0f8ff;}div.sk-toggleable__content pre {margin: 0.2em;color: black;border-radius: 0.25em;background-color: #f0f8ff;}input.sk-toggleable__control:checked~div.sk-toggleable__content {max-height: 200px;max-width: 100%;overflow: auto;}div.sk-estimator input.sk-toggleable__control:checked~label.sk-toggleable__label {background-color: #d4ebff;}div.sk-label input.sk-toggleable__control:checked~label.sk-toggleable__label {background-color: #d4ebff;}input.sk-hidden--visually {border: 0;clip: rect(1px 1px 1px 1px);clip: rect(1px, 1px, 1px, 1px);height: 1px;margin: -1px;overflow: hidden;padding: 0;position: absolute;width: 1px;}div.sk-estimator {font-family: monospace;background-color: #f0f8ff;margin: 0.25em 0.25em;border: 1px dotted black;border-radius: 0.25em;box-sizing: border-box;}div.sk-estimator:hover {background-color: #d4ebff;}div.sk-parallel-item::after {content: \"\";width: 100%;border-bottom: 1px solid gray;flex-grow: 1;}div.sk-label:hover label.sk-toggleable__label {background-color: #d4ebff;}div.sk-serial::before {content: \"\";position: absolute;border-left: 1px solid gray;box-sizing: border-box;top: 2em;bottom: 0;left: 50%;}div.sk-serial {display: flex;flex-direction: column;align-items: center;background-color: white;}div.sk-item {z-index: 1;}div.sk-parallel {display: flex;align-items: stretch;justify-content: center;background-color: white;}div.sk-parallel-item {display: flex;flex-direction: column;position: relative;background-color: white;}div.sk-parallel-item:first-child::after {align-self: flex-end;width: 50%;}div.sk-parallel-item:last-child::after {align-self: flex-start;width: 50%;}div.sk-parallel-item:only-child::after {width: 0;}div.sk-dashed-wrapped {border: 1px dashed gray;margin: 0.2em;box-sizing: border-box;padding-bottom: 0.1em;background-color: white;position: relative;}div.sk-label label {font-family: monospace;font-weight: bold;background-color: white;display: inline-block;line-height: 1.2em;}div.sk-label-container {position: relative;z-index: 2;text-align: center;}div.sk-container {display: inline-block;position: relative;}</style><div class=\"sk-top-container\"><div class=\"sk-container\"><div class=\"sk-item sk-dashed-wrapped\"><div class=\"sk-label-container\"><div class=\"sk-label sk-toggleable\"><input class=\"sk-toggleable__control sk-hidden--visually\" id=\"97459fc8-6425-40a1-aeb3-888108d25a3f\" type=\"checkbox\" ><label class=\"sk-toggleable__label\" for=\"97459fc8-6425-40a1-aeb3-888108d25a3f\">Pipeline</label><div class=\"sk-toggleable__content\"><pre>Pipeline(steps=[('columntransformer',\n",
       "                 ColumnTransformer(transformers=[('pipeline-1',\n",
       "                                                  Pipeline(steps=[('minmaxscaler',\n",
       "                                                                   MinMaxScaler())]),\n",
       "                                                  <sklearn.compose._column_transformer.make_column_selector object at 0x7f4c932e4be0>),\n",
       "                                                 ('pipeline-2',\n",
       "                                                  Pipeline(steps=[('onehotencoder',\n",
       "                                                                   OneHotEncoder(handle_unknown='ignore'))]),\n",
       "                                                  <sklearn.compose._column_transformer.make_column_selector object at 0x7f4c932e4c40>)])),\n",
       "                ('linearregression', LinearRegression())])</pre></div></div></div><div class=\"sk-serial\"><div class=\"sk-item sk-dashed-wrapped\"><div class=\"sk-label-container\"><div class=\"sk-label sk-toggleable\"><input class=\"sk-toggleable__control sk-hidden--visually\" id=\"eea02207-a749-4b1e-9240-543eb53591ba\" type=\"checkbox\" ><label class=\"sk-toggleable__label\" for=\"eea02207-a749-4b1e-9240-543eb53591ba\">columntransformer: ColumnTransformer</label><div class=\"sk-toggleable__content\"><pre>ColumnTransformer(transformers=[('pipeline-1',\n",
       "                                 Pipeline(steps=[('minmaxscaler',\n",
       "                                                  MinMaxScaler())]),\n",
       "                                 <sklearn.compose._column_transformer.make_column_selector object at 0x7f4c932e4be0>),\n",
       "                                ('pipeline-2',\n",
       "                                 Pipeline(steps=[('onehotencoder',\n",
       "                                                  OneHotEncoder(handle_unknown='ignore'))]),\n",
       "                                 <sklearn.compose._column_transformer.make_column_selector object at 0x7f4c932e4c40>)])</pre></div></div></div><div class=\"sk-parallel\"><div class=\"sk-parallel-item\"><div class=\"sk-item\"><div class=\"sk-label-container\"><div class=\"sk-label sk-toggleable\"><input class=\"sk-toggleable__control sk-hidden--visually\" id=\"72384a34-588a-42ab-a202-3e19410bfc89\" type=\"checkbox\" ><label class=\"sk-toggleable__label\" for=\"72384a34-588a-42ab-a202-3e19410bfc89\">pipeline-1</label><div class=\"sk-toggleable__content\"><pre><sklearn.compose._column_transformer.make_column_selector object at 0x7f4c932e4be0></pre></div></div></div><div class=\"sk-serial\"><div class=\"sk-item\"><div class=\"sk-serial\"><div class=\"sk-item\"><div class=\"sk-estimator sk-toggleable\"><input class=\"sk-toggleable__control sk-hidden--visually\" id=\"9c47a473-7d8d-49d7-85ae-f69058f054b6\" type=\"checkbox\" ><label class=\"sk-toggleable__label\" for=\"9c47a473-7d8d-49d7-85ae-f69058f054b6\">MinMaxScaler</label><div class=\"sk-toggleable__content\"><pre>MinMaxScaler()</pre></div></div></div></div></div></div></div></div><div class=\"sk-parallel-item\"><div class=\"sk-item\"><div class=\"sk-label-container\"><div class=\"sk-label sk-toggleable\"><input class=\"sk-toggleable__control sk-hidden--visually\" id=\"7596c77c-6edb-43af-9377-919b3b8058a4\" type=\"checkbox\" ><label class=\"sk-toggleable__label\" for=\"7596c77c-6edb-43af-9377-919b3b8058a4\">pipeline-2</label><div class=\"sk-toggleable__content\"><pre><sklearn.compose._column_transformer.make_column_selector object at 0x7f4c932e4c40></pre></div></div></div><div class=\"sk-serial\"><div class=\"sk-item\"><div class=\"sk-serial\"><div class=\"sk-item\"><div class=\"sk-estimator sk-toggleable\"><input class=\"sk-toggleable__control sk-hidden--visually\" id=\"cc3201f2-edcd-4051-b1af-f3245a014e34\" type=\"checkbox\" ><label class=\"sk-toggleable__label\" for=\"cc3201f2-edcd-4051-b1af-f3245a014e34\">OneHotEncoder</label><div class=\"sk-toggleable__content\"><pre>OneHotEncoder(handle_unknown='ignore')</pre></div></div></div></div></div></div></div></div></div></div><div class=\"sk-item\"><div class=\"sk-estimator sk-toggleable\"><input class=\"sk-toggleable__control sk-hidden--visually\" id=\"b4985e7c-ec99-4af2-8a50-ce084505ec88\" type=\"checkbox\" ><label class=\"sk-toggleable__label\" for=\"b4985e7c-ec99-4af2-8a50-ce084505ec88\">LinearRegression</label><div class=\"sk-toggleable__content\"><pre>LinearRegression()</pre></div></div></div></div></div></div></div>"
      ],
      "text/plain": [
       "Pipeline(steps=[('columntransformer',\n",
       "                 ColumnTransformer(transformers=[('pipeline-1',\n",
       "                                                  Pipeline(steps=[('minmaxscaler',\n",
       "                                                                   MinMaxScaler())]),\n",
       "                                                  <sklearn.compose._column_transformer.make_column_selector object at 0x7f4c932e4be0>),\n",
       "                                                 ('pipeline-2',\n",
       "                                                  Pipeline(steps=[('onehotencoder',\n",
       "                                                                   OneHotEncoder(handle_unknown='ignore'))]),\n",
       "                                                  <sklearn.compose._column_transformer.make_column_selector object at 0x7f4c932e4c40>)])),\n",
       "                ('linearregression', LinearRegression())])"
      ]
     },
     "execution_count": 9,
     "metadata": {},
     "output_type": "execute_result"
    }
   ],
   "source": [
    "# Adding model\n",
    "pipe_baseline = make_pipeline(preproc_baseline, LinearRegression())#Ridge\n",
    "pipe_baseline"
   ]
  },
  {
   "cell_type": "code",
   "execution_count": 10,
   "id": "7921e856",
   "metadata": {},
   "outputs": [],
   "source": [
    "# Create the scorer (here used RMSLE because predictions have large deviation)\n",
    "from sklearn.metrics import mean_squared_error,mean_absolute_error\n",
    "rmse = make_scorer(lambda y_true, y_pred: mean_squared_error(y_true, y_pred)**0.5)"
   ]
  },
  {
   "cell_type": "code",
   "execution_count": 11,
   "id": "fb6465b5",
   "metadata": {
    "slideshow": {
     "slide_type": "subslide"
    }
   },
   "outputs": [
    {
     "data": {
      "text/plain": [
       "10688374.096997617"
      ]
     },
     "execution_count": 11,
     "metadata": {},
     "output_type": "execute_result"
    }
   ],
   "source": [
    "# Apply the scorer with Cross Validation\n",
    "score_baseline = cross_val_score(pipe_baseline, X, y, cv=5, scoring=rmse).mean()\n",
    "score_baseline"
   ]
  },
  {
   "cell_type": "markdown",
   "id": "6a8eab8a",
   "metadata": {},
   "source": [
    "We have a baseline score. As simple as possible."
   ]
  },
  {
   "cell_type": "markdown",
   "id": "221e7557",
   "metadata": {
    "slideshow": {
     "slide_type": "slide"
    }
   },
   "source": [
    "# Iterations"
   ]
  },
  {
   "cell_type": "markdown",
   "id": "f29249bc",
   "metadata": {
    "slideshow": {
     "slide_type": "subslide"
    }
   },
   "source": [
    "## Let's now have a look on the features"
   ]
  },
  {
   "cell_type": "markdown",
   "id": "ce259230",
   "metadata": {
    "slideshow": {
     "slide_type": "subslide"
    }
   },
   "source": [
    "### Cathegorical features"
   ]
  },
  {
   "cell_type": "code",
   "execution_count": 12,
   "id": "2a129d86",
   "metadata": {
    "scrolled": true
   },
   "outputs": [
    {
     "name": "stdout",
     "output_type": "stream",
     "text": [
      "There are 2 sectors values\n",
      "{'information_service', 'energy'}\n"
     ]
    },
    {
     "data": {
      "image/png": "[encoded data removed]",
      "text/plain": [
       "<Figure size 432x288 with 1 Axes>"
      ]
     },
     "metadata": {},
     "output_type": "display_data"
    }
   ],
   "source": [
    "print('There are {} sectors values'.format(data.sector.nunique()))\n",
    "print(set(data.sector))\n",
    "sns.set_theme(style=\"whitegrid\")\n",
    "tips = sns.load_dataset(\"tips\")\n",
    "ax = sns.histplot(x=\"sector\", data=data)\n",
    "plt.show();"
   ]
  },
  {
   "cell_type": "markdown",
   "id": "09a49271",
   "metadata": {
    "slideshow": {
     "slide_type": "fragment"
    }
   },
   "source": [
    "They are exactly the same number"
   ]
  },
  {
   "cell_type": "code",
   "execution_count": 13,
   "id": "e1c8e4ce",
   "metadata": {},
   "outputs": [
    {
     "name": "stdout",
     "output_type": "stream",
     "text": [
      "There are 3 countries values\n",
      "{'CountryB', 'CountryC', 'CountryA'}\n"
     ]
    },
    {
     "data": {
      "image/png": "[encoded data removed]",
      "text/plain": [
       "<Figure size 432x288 with 1 Axes>"
      ]
     },
     "metadata": {},
     "output_type": "display_data"
    }
   ],
   "source": [
    "print('There are {} countries values'.format(data.country.nunique()))\n",
    "print(set(data.country))\n",
    "ax = sns.histplot(x=\"country\", data=data)\n",
    "plt.show();"
   ]
  },
  {
   "cell_type": "markdown",
   "id": "e88a5042",
   "metadata": {
    "slideshow": {
     "slide_type": "fragment"
    }
   },
   "source": [
    "Heterogeneous distribution."
   ]
  },
  {
   "cell_type": "markdown",
   "id": "0ec0a483",
   "metadata": {
    "slideshow": {
     "slide_type": "subslide"
    }
   },
   "source": [
    "### Contunuous features"
   ]
  },
  {
   "cell_type": "code",
   "execution_count": 14,
   "id": "6da609f0",
   "metadata": {
    "scrolled": true
   },
   "outputs": [
    {
     "data": {
      "image/png": "[encoded data removed]",
      "text/plain": [
       "<Figure size 432x288 with 1 Axes>"
      ]
     },
     "metadata": {},
     "output_type": "display_data"
    },
    {
     "data": {
      "image/png": "[encoded data removed]",
      "text/plain": [
       "<Figure size 432x288 with 1 Axes>"
      ]
     },
     "metadata": {},
     "output_type": "display_data"
    }
   ],
   "source": [
    "ax = sns.histplot(x=\"revenue\", data=data)\n",
    "plt.show();\n",
    "ax = sns.histplot(x=\"revenue\", data=data,log_scale=True)\n",
    "plt.show();"
   ]
  },
  {
   "cell_type": "markdown",
   "id": "17fd88a0",
   "metadata": {
    "slideshow": {
     "slide_type": "fragment"
    }
   },
   "source": [
    "Almost power low. The biggest data are pretty sparse.\n",
    "\n",
    "Less information foir big data. We expect less precision."
   ]
  },
  {
   "cell_type": "code",
   "execution_count": 15,
   "id": "db9557f4",
   "metadata": {},
   "outputs": [
    {
     "data": {
      "image/png": "[encoded data removed]",
      "text/plain": [
       "<Figure size 432x288 with 1 Axes>"
      ]
     },
     "metadata": {},
     "output_type": "display_data"
    },
    {
     "data": {
      "image/png": "[encoded data removed]",
      "text/plain": [
       "<Figure size 432x288 with 1 Axes>"
      ]
     },
     "metadata": {},
     "output_type": "display_data"
    }
   ],
   "source": [
    "ax = sns.histplot(x=\"employee_count\", data=data)\n",
    "plt.show();\n",
    "ax = sns.histplot(x=\"employee_count\", data=data[['revenue','employee_count']]+1,log_scale=True)\n",
    "plt.show();"
   ]
  },
  {
   "cell_type": "code",
   "execution_count": 16,
   "id": "85ff2ebc",
   "metadata": {},
   "outputs": [
    {
     "data": {
      "text/plain": [
       "10"
      ]
     },
     "execution_count": 16,
     "metadata": {},
     "output_type": "execute_result"
    }
   ],
   "source": [
    "a = sum(data['employee_count']==0)\n",
    "a"
   ]
  },
  {
   "cell_type": "markdown",
   "id": "6cce52a6",
   "metadata": {
    "slideshow": {
     "slide_type": "fragment"
    }
   },
   "source": [
    "There are 10 companies that are 0.\n",
    "\n",
    "Talked to Dominic: most probably, missing data. Not more information about it. I'll treat them as missing data."
   ]
  },
  {
   "cell_type": "markdown",
   "id": "d71bcbd5",
   "metadata": {
    "slideshow": {
     "slide_type": "subslide"
    }
   },
   "source": [
    "### Target feature"
   ]
  },
  {
   "cell_type": "code",
   "execution_count": 17,
   "id": "c50e0314",
   "metadata": {
    "scrolled": true
   },
   "outputs": [
    {
     "data": {
      "image/png": "[encoded data removed]",
      "text/plain": [
       "<Figure size 432x288 with 1 Axes>"
      ]
     },
     "metadata": {},
     "output_type": "display_data"
    }
   ],
   "source": [
    "ax = sns.histplot(x=\"emission\", data=data)\n",
    "plt.show();"
   ]
  },
  {
   "cell_type": "code",
   "execution_count": 18,
   "id": "4568bbe2",
   "metadata": {},
   "outputs": [
    {
     "data": {
      "image/png": "[encoded data removed]",
      "text/plain": [
       "<Figure size 432x288 with 1 Axes>"
      ]
     },
     "metadata": {},
     "output_type": "display_data"
    }
   ],
   "source": [
    "big_val = data[data['emission']>0.10e6]\n",
    "ax = sns.histplot(x=\"emission\", data=big_val,bins=20,log_scale=False)\n",
    "plt.show();"
   ]
  },
  {
   "cell_type": "code",
   "execution_count": 19,
   "id": "33898a51",
   "metadata": {
    "scrolled": false
   },
   "outputs": [
    {
     "data": {
      "image/png": "[encoded data removed]",
      "text/plain": [
       "<Figure size 432x288 with 1 Axes>"
      ]
     },
     "metadata": {},
     "output_type": "display_data"
    }
   ],
   "source": [
    "small_val = data[data['emission']<0.10e6]\n",
    "ax = sns.histplot(x=\"emission\", data=small_val,bins=20,log_scale=False)\n",
    "plt.show();"
   ]
  },
  {
   "cell_type": "markdown",
   "id": "f51e822c",
   "metadata": {
    "slideshow": {
     "slide_type": "fragment"
    }
   },
   "source": [
    "There are two different \"normal\" distribution:\n",
    "\n",
    "one around $4 \\cdot 10^7$\n",
    "\n",
    "the second around $10 \\cdot 10^5$\n",
    "\n",
    "Probably due to how there were created"
   ]
  },
  {
   "cell_type": "markdown",
   "id": "6f09ce7d",
   "metadata": {
    "slideshow": {
     "slide_type": "subslide"
    }
   },
   "source": [
    "## Correlations"
   ]
  },
  {
   "cell_type": "code",
   "execution_count": 88,
   "id": "b5199e3b",
   "metadata": {
    "slideshow": {
     "slide_type": "subslide"
    }
   },
   "outputs": [
    {
     "data": {
      "image/png": "[encoded data removed]",
      "text/plain": [
       "<Figure size 432x288 with 1 Axes>"
      ]
     },
     "metadata": {},
     "output_type": "display_data"
    }
   ],
   "source": [
    "ax = sns.histplot(x=\"emission\",hue='sector', data=data,bins=20,log_scale=False)\n",
    "plt.show();"
   ]
  },
  {
   "cell_type": "code",
   "execution_count": 97,
   "id": "d39abd21",
   "metadata": {
    "slideshow": {
     "slide_type": "fragment"
    }
   },
   "outputs": [
    {
     "data": {
      "image/png": "[encoded data removed]",
      "text/plain": [
       "<Figure size 432x288 with 1 Axes>"
      ]
     },
     "metadata": {},
     "output_type": "display_data"
    }
   ],
   "source": [
    "ax = sns.histplot(x=\"emission\",hue='sector', data=small_val,bins=20,log_scale=False)\n",
    "plt.show();"
   ]
  },
  {
   "cell_type": "code",
   "execution_count": 20,
   "id": "690de41b",
   "metadata": {
    "slideshow": {
     "slide_type": "fragment"
    }
   },
   "outputs": [
    {
     "data": {
      "image/png": "[encoded data removed]",
      "text/plain": [
       "<Figure size 432x288 with 1 Axes>"
      ]
     },
     "metadata": {},
     "output_type": "display_data"
    }
   ],
   "source": [
    "ax = sns.histplot(x=\"emission\",hue='sector', data=big_val,bins=20,log_scale=False)\n",
    "plt.show();"
   ]
  },
  {
   "cell_type": "markdown",
   "id": "fb25f5c8",
   "metadata": {
    "slideshow": {
     "slide_type": "fragment"
    }
   },
   "source": [
    "The two sectors are perfectly divided.\n",
    "\n",
    "We can treat them as two different dataset."
   ]
  },
  {
   "cell_type": "markdown",
   "id": "f73791b7",
   "metadata": {
    "slideshow": {
     "slide_type": "subslide"
    }
   },
   "source": [
    "#### Countries - Emissions"
   ]
  },
  {
   "cell_type": "code",
   "execution_count": 23,
   "id": "9c494bc7",
   "metadata": {
    "scrolled": true,
    "slideshow": {
     "slide_type": "subslide"
    }
   },
   "outputs": [
    {
     "data": {
      "image/png": "[encoded data removed]",
      "text/plain": [
       "<Figure size 432x288 with 1 Axes>"
      ]
     },
     "metadata": {},
     "output_type": "display_data"
    }
   ],
   "source": [
    "# Energy sector\n",
    "ax = sns.histplot(x=\"emission\",hue='country', data=small_val,bins=20,log_scale=False)\n",
    "plt.show();"
   ]
  },
  {
   "cell_type": "code",
   "execution_count": 24,
   "id": "f4242e09",
   "metadata": {
    "slideshow": {
     "slide_type": "fragment"
    }
   },
   "outputs": [
    {
     "data": {
      "image/png": "[encoded data removed]",
      "text/plain": [
       "<Figure size 432x288 with 1 Axes>"
      ]
     },
     "metadata": {},
     "output_type": "display_data"
    }
   ],
   "source": [
    "# information_service sector\n",
    "ax = sns.histplot(x=\"emission\",hue='country', data=big_val,bins=20,log_scale=False)\n",
    "plt.show();"
   ]
  },
  {
   "cell_type": "markdown",
   "id": "7b071fb2",
   "metadata": {
    "slideshow": {
     "slide_type": "fragment"
    }
   },
   "source": [
    "Country homogeneusly distributed over the emissions values"
   ]
  },
  {
   "cell_type": "code",
   "execution_count": null,
   "id": "ac42b0af",
   "metadata": {
    "slideshow": {
     "slide_type": "skip"
    }
   },
   "outputs": [],
   "source": [
    "# ax = sns.histplot(x=\"revenue\",hue='sector', data=data,bins=20,log_scale=False)\n",
    "# plt.show();\n",
    "# ax = sns.histplot(x=\"revenue\",hue='country', data=data,bins=20,log_scale=False)\n",
    "# plt.show();"
   ]
  },
  {
   "cell_type": "code",
   "execution_count": 100,
   "id": "e5714fcb",
   "metadata": {
    "slideshow": {
     "slide_type": "subslide"
    }
   },
   "outputs": [
    {
     "data": {
      "image/png": "[encoded data removed]",
      "text/plain": [
       "<Figure size 432x288 with 1 Axes>"
      ]
     },
     "metadata": {},
     "output_type": "display_data"
    },
    {
     "data": {
      "image/png": "[encoded data removed]",
      "text/plain": [
       "<Figure size 432x288 with 1 Axes>"
      ]
     },
     "metadata": {},
     "output_type": "display_data"
    }
   ],
   "source": [
    "# Replace missing values\n",
    "ax = sns.histplot(x=\"employee_count\",hue='sector', data=data,bins=20,log_scale=False)\n",
    "plt.show();\n",
    "ax = sns.histplot(x=\"employee_count\",hue='country', data=data,bins=20,log_scale=False)\n",
    "plt.show();"
   ]
  },
  {
   "cell_type": "markdown",
   "id": "217c0734",
   "metadata": {
    "slideshow": {
     "slide_type": "fragment"
    }
   },
   "source": [
    "Small data missing for employee_count, otherwise model to replace based on average on sector (strong correlation)"
   ]
  },
  {
   "cell_type": "code",
   "execution_count": 22,
   "id": "45cee4aa",
   "metadata": {},
   "outputs": [
    {
     "data": {
      "text/plain": [
       "<matplotlib.axes._subplots.AxesSubplot at 0x7f4c8abf92b0>"
      ]
     },
     "execution_count": 22,
     "metadata": {},
     "output_type": "execute_result"
    },
    {
     "data": {
      "image/png": "[encoded data removed]",
      "text/plain": [
       "<Figure size 792x648 with 2 Axes>"
      ]
     },
     "metadata": {},
     "output_type": "display_data"
    }
   ],
   "source": [
    "corr_num = data.select_dtypes(include=['int64','float64'])\n",
    "# Compute the correlation matrix\n",
    "corr = corr_num.corr()\n",
    "# Generate a mask for the upper triangle\n",
    "mask = np.triu(np.ones_like(corr, dtype=bool))\n",
    "# Set up the matplotlib figure\n",
    "f, ax = plt.subplots(figsize=(11, 9))\n",
    "# Generate a custom diverging colormap\n",
    "cmap = 'coolwarm'#sns.diverging_palette(230, 20, as_cmap=True)\n",
    "# Draw the heatmap with the mask and correct aspect ratio\n",
    "sns.heatmap(corr, mask=mask, cmap=cmap, vmax=None, center=0,\n",
    "            square=True, linewidths=.5, cbar_kws={\"shrink\": .5})"
   ]
  },
  {
   "cell_type": "markdown",
   "id": "81bcebe5",
   "metadata": {},
   "source": [
    "As expected the correlations are petty high: bigger emissions implies bigger revenue and employee number"
   ]
  },
  {
   "cell_type": "code",
   "execution_count": 117,
   "id": "905bfacd",
   "metadata": {
    "scrolled": true,
    "slideshow": {
     "slide_type": "skip"
    }
   },
   "outputs": [
    {
     "data": {
      "text/plain": [
       "array([15056.82819973, 13671.26183492])"
      ]
     },
     "execution_count": 117,
     "metadata": {},
     "output_type": "execute_result"
    }
   ],
   "source": [
    "# # Fit on all the data without validation and predict a dataset\n",
    "# pipe_baseline.fit(X,y)\n",
    "# y_pred_baseline = pipe_baseline.predict(X_no_target)\n",
    "# y_pred_baseline[:5]"
   ]
  },
  {
   "cell_type": "code",
   "execution_count": 109,
   "id": "d2f419c9",
   "metadata": {
    "slideshow": {
     "slide_type": "subslide"
    }
   },
   "outputs": [
    {
     "name": "stdout",
     "output_type": "stream",
     "text": [
      "revenue 0\n",
      "emission 0\n",
      "employee_count 10\n",
      "sector 0\n",
      "country 0\n"
     ]
    }
   ],
   "source": [
    "# Null values only in employee_count\n",
    "for col in data.columns:\n",
    "    print(col,sum(data[col]==0))"
   ]
  },
  {
   "cell_type": "markdown",
   "id": "eb75ac76",
   "metadata": {
    "slideshow": {
     "slide_type": "slide"
    }
   },
   "source": [
    "## Model iterations"
   ]
  },
  {
   "cell_type": "code",
   "execution_count": 30,
   "id": "e4aa4025",
   "metadata": {},
   "outputs": [
    {
     "data": {
      "text/html": [
       "<style>div.sk-top-container {color: black;background-color: white;}div.sk-toggleable {background-color: white;}label.sk-toggleable__label {cursor: pointer;display: block;width: 100%;margin-bottom: 0;padding: 0.2em 0.3em;box-sizing: border-box;text-align: center;}div.sk-toggleable__content {max-height: 0;max-width: 0;overflow: hidden;text-align: left;background-color: #f0f8ff;}div.sk-toggleable__content pre {margin: 0.2em;color: black;border-radius: 0.25em;background-color: #f0f8ff;}input.sk-toggleable__control:checked~div.sk-toggleable__content {max-height: 200px;max-width: 100%;overflow: auto;}div.sk-estimator input.sk-toggleable__control:checked~label.sk-toggleable__label {background-color: #d4ebff;}div.sk-label input.sk-toggleable__control:checked~label.sk-toggleable__label {background-color: #d4ebff;}input.sk-hidden--visually {border: 0;clip: rect(1px 1px 1px 1px);clip: rect(1px, 1px, 1px, 1px);height: 1px;margin: -1px;overflow: hidden;padding: 0;position: absolute;width: 1px;}div.sk-estimator {font-family: monospace;background-color: #f0f8ff;margin: 0.25em 0.25em;border: 1px dotted black;border-radius: 0.25em;box-sizing: border-box;}div.sk-estimator:hover {background-color: #d4ebff;}div.sk-parallel-item::after {content: \"\";width: 100%;border-bottom: 1px solid gray;flex-grow: 1;}div.sk-label:hover label.sk-toggleable__label {background-color: #d4ebff;}div.sk-serial::before {content: \"\";position: absolute;border-left: 1px solid gray;box-sizing: border-box;top: 2em;bottom: 0;left: 50%;}div.sk-serial {display: flex;flex-direction: column;align-items: center;background-color: white;}div.sk-item {z-index: 1;}div.sk-parallel {display: flex;align-items: stretch;justify-content: center;background-color: white;}div.sk-parallel-item {display: flex;flex-direction: column;position: relative;background-color: white;}div.sk-parallel-item:first-child::after {align-self: flex-end;width: 50%;}div.sk-parallel-item:last-child::after {align-self: flex-start;width: 50%;}div.sk-parallel-item:only-child::after {width: 0;}div.sk-dashed-wrapped {border: 1px dashed gray;margin: 0.2em;box-sizing: border-box;padding-bottom: 0.1em;background-color: white;position: relative;}div.sk-label label {font-family: monospace;font-weight: bold;background-color: white;display: inline-block;line-height: 1.2em;}div.sk-label-container {position: relative;z-index: 2;text-align: center;}div.sk-container {display: inline-block;position: relative;}</style><div class=\"sk-top-container\"><div class=\"sk-container\"><div class=\"sk-item sk-dashed-wrapped\"><div class=\"sk-label-container\"><div class=\"sk-label sk-toggleable\"><input class=\"sk-toggleable__control sk-hidden--visually\" id=\"7c839a3d-3aad-48bf-b3ed-8244a4400d04\" type=\"checkbox\" ><label class=\"sk-toggleable__label\" for=\"7c839a3d-3aad-48bf-b3ed-8244a4400d04\">ColumnTransformer</label><div class=\"sk-toggleable__content\"><pre>ColumnTransformer(transformers=[('pipeline-1',\n",
       "                                 Pipeline(steps=[('simpleimputer',\n",
       "                                                  SimpleImputer(missing_values=0)),\n",
       "                                                 ('minmaxscaler',\n",
       "                                                  MinMaxScaler())]),\n",
       "                                 <sklearn.compose._column_transformer.make_column_selector object at 0x7f4c8b162220>),\n",
       "                                ('pipeline-2',\n",
       "                                 Pipeline(steps=[('onehotencoder',\n",
       "                                                  OneHotEncoder(handle_unknown='ignore'))]),\n",
       "                                 <sklearn.compose._column_transformer.make_column_selector object at 0x7f4c8b162a00>)])</pre></div></div></div><div class=\"sk-parallel\"><div class=\"sk-parallel-item\"><div class=\"sk-item\"><div class=\"sk-label-container\"><div class=\"sk-label sk-toggleable\"><input class=\"sk-toggleable__control sk-hidden--visually\" id=\"6fc5834d-43e3-48a6-8918-3cbe1fb76695\" type=\"checkbox\" ><label class=\"sk-toggleable__label\" for=\"6fc5834d-43e3-48a6-8918-3cbe1fb76695\">pipeline-1</label><div class=\"sk-toggleable__content\"><pre><sklearn.compose._column_transformer.make_column_selector object at 0x7f4c8b162220></pre></div></div></div><div class=\"sk-serial\"><div class=\"sk-item\"><div class=\"sk-serial\"><div class=\"sk-item\"><div class=\"sk-estimator sk-toggleable\"><input class=\"sk-toggleable__control sk-hidden--visually\" id=\"1e2652fd-48be-4878-82c3-b5e38ef40d42\" type=\"checkbox\" ><label class=\"sk-toggleable__label\" for=\"1e2652fd-48be-4878-82c3-b5e38ef40d42\">SimpleImputer</label><div class=\"sk-toggleable__content\"><pre>SimpleImputer(missing_values=0)</pre></div></div></div><div class=\"sk-item\"><div class=\"sk-estimator sk-toggleable\"><input class=\"sk-toggleable__control sk-hidden--visually\" id=\"c18388f7-e9bd-4006-9222-2a0bcf522027\" type=\"checkbox\" ><label class=\"sk-toggleable__label\" for=\"c18388f7-e9bd-4006-9222-2a0bcf522027\">MinMaxScaler</label><div class=\"sk-toggleable__content\"><pre>MinMaxScaler()</pre></div></div></div></div></div></div></div></div><div class=\"sk-parallel-item\"><div class=\"sk-item\"><div class=\"sk-label-container\"><div class=\"sk-label sk-toggleable\"><input class=\"sk-toggleable__control sk-hidden--visually\" id=\"ee5de113-9c50-48f1-8e2a-9287f7893d2a\" type=\"checkbox\" ><label class=\"sk-toggleable__label\" for=\"ee5de113-9c50-48f1-8e2a-9287f7893d2a\">pipeline-2</label><div class=\"sk-toggleable__content\"><pre><sklearn.compose._column_transformer.make_column_selector object at 0x7f4c8b162a00></pre></div></div></div><div class=\"sk-serial\"><div class=\"sk-item\"><div class=\"sk-serial\"><div class=\"sk-item\"><div class=\"sk-estimator sk-toggleable\"><input class=\"sk-toggleable__control sk-hidden--visually\" id=\"af900f1e-b177-4bd9-941e-7fa5c6fbaf24\" type=\"checkbox\" ><label class=\"sk-toggleable__label\" for=\"af900f1e-b177-4bd9-941e-7fa5c6fbaf24\">OneHotEncoder</label><div class=\"sk-toggleable__content\"><pre>OneHotEncoder(handle_unknown='ignore')</pre></div></div></div></div></div></div></div></div></div></div></div></div>"
      ],
      "text/plain": [
       "ColumnTransformer(transformers=[('pipeline-1',\n",
       "                                 Pipeline(steps=[('simpleimputer',\n",
       "                                                  SimpleImputer(missing_values=0)),\n",
       "                                                 ('minmaxscaler',\n",
       "                                                  MinMaxScaler())]),\n",
       "                                 <sklearn.compose._column_transformer.make_column_selector object at 0x7f4c8b162220>),\n",
       "                                ('pipeline-2',\n",
       "                                 Pipeline(steps=[('onehotencoder',\n",
       "                                                  OneHotEncoder(handle_unknown='ignore'))]),\n",
       "                                 <sklearn.compose._column_transformer.make_column_selector object at 0x7f4c8b162a00>)])"
      ]
     },
     "execution_count": 30,
     "metadata": {},
     "output_type": "execute_result"
    }
   ],
   "source": [
    "# Preprocessing pipeline\n",
    "preproc_numerical = make_pipeline(\n",
    "    SimpleImputer(missing_values=0,strategy=\"mean\"),\n",
    "    MinMaxScaler())\n",
    "\n",
    "preproc_categorical = make_pipeline(\n",
    "    OneHotEncoder(handle_unknown=\"ignore\"))\n",
    "\n",
    "preproc = make_column_transformer(\n",
    "    (preproc_numerical, make_column_selector(dtype_include=[\"int64\", \"float64\"])),\n",
    "    (preproc_categorical, make_column_selector(dtype_include=[\"object\"])),\n",
    "    remainder=\"drop\")\n",
    "\n",
    "preproc"
   ]
  },
  {
   "cell_type": "markdown",
   "id": "b34b0d0d",
   "metadata": {
    "slideshow": {
     "slide_type": "subslide"
    }
   },
   "source": [
    "### Linear Models (Lasso, Ridge, ElasticNet, SGDRegressor...)"
   ]
  },
  {
   "cell_type": "code",
   "execution_count": 32,
   "id": "bff486e8",
   "metadata": {},
   "outputs": [
    {
     "data": {
      "text/plain": [
       "10688374.096997617"
      ]
     },
     "execution_count": 32,
     "metadata": {},
     "output_type": "execute_result"
    }
   ],
   "source": [
    "score_baseline"
   ]
  },
  {
   "cell_type": "code",
   "execution_count": 50,
   "id": "05dc0c45",
   "metadata": {},
   "outputs": [],
   "source": [
    "def comp_scores(score):\n",
    "    print('score: {}'.format(score),\n",
    "          'compared to baseline: {}'.format(score / score_baseline))\n",
    "    return None"
   ]
  },
  {
   "cell_type": "code",
   "execution_count": 51,
   "id": "30348e48",
   "metadata": {},
   "outputs": [
    {
     "name": "stdout",
     "output_type": "stream",
     "text": [
      "score: 10688249.499571033 compared to baseline: 0.999988342714668\n"
     ]
    }
   ],
   "source": [
    "# LinearRegression\n",
    "model = LinearRegression()\n",
    "pipe_LR = make_pipeline(preproc, model)\n",
    "score_LR = cross_val_score(pipe_LR, X, y, cv=5, scoring=rmse).mean()\n",
    "\n",
    "comp_scores(score_LR)"
   ]
  },
  {
   "cell_type": "markdown",
   "id": "c31999a6",
   "metadata": {
    "slideshow": {
     "slide_type": "subslide"
    }
   },
   "source": [
    "### KNN"
   ]
  },
  {
   "cell_type": "code",
   "execution_count": 41,
   "id": "de0a7115",
   "metadata": {},
   "outputs": [],
   "source": [
    "model = KNeighborsRegressor()\n",
    "pipe_knn = make_pipeline(preproc, model)"
   ]
  },
  {
   "cell_type": "code",
   "execution_count": 52,
   "id": "f561637c",
   "metadata": {},
   "outputs": [
    {
     "name": "stdout",
     "output_type": "stream",
     "text": [
      "score: 9559281.748310741 compared to baseline: 0.8943625720394611\n"
     ]
    }
   ],
   "source": [
    "scores = cross_val_score(pipe_knn, X, y, cv=5, scoring=rmse)\n",
    "score_knn = scores.mean()\n",
    "comp_scores(score_knn)"
   ]
  },
  {
   "cell_type": "markdown",
   "id": "fc9b555a",
   "metadata": {},
   "source": [
    "### SVM"
   ]
  },
  {
   "cell_type": "code",
   "execution_count": 53,
   "id": "d628634b",
   "metadata": {},
   "outputs": [
    {
     "name": "stdout",
     "output_type": "stream",
     "text": [
      "score: 38757944.127787955 compared to baseline: 3.62617773068732\n"
     ]
    }
   ],
   "source": [
    "model = SVR(kernel='linear')\n",
    "pipe_svm = make_pipeline(preproc, model)\n",
    "score_lin_SVR = cross_val_score(pipe_svm, X, y, cv=5, scoring=rmse).mean()\n",
    "comp_scores(score_lin_SVR)"
   ]
  },
  {
   "cell_type": "code",
   "execution_count": 54,
   "id": "eac35b19",
   "metadata": {},
   "outputs": [
    {
     "name": "stdout",
     "output_type": "stream",
     "text": [
      "score: 38755163.35652134 compared to baseline: 3.625917562841268\n"
     ]
    }
   ],
   "source": [
    "model = SVR(kernel='rbf', C = 10)\n",
    "pipe_svm_rbf = make_pipeline(preproc, model)\n",
    "score_SVR = cross_val_score(pipe_svm_rbf, X, y, cv=5, scoring=rmse).mean()\n",
    "comp_scores(score_SVR)"
   ]
  },
  {
   "cell_type": "markdown",
   "id": "3358093a",
   "metadata": {},
   "source": [
    "### Trees"
   ]
  },
  {
   "cell_type": "code",
   "execution_count": 55,
   "id": "c4e43cbb",
   "metadata": {},
   "outputs": [
    {
     "name": "stdout",
     "output_type": "stream",
     "text": [
      "7697089.606813667\n",
      "score: 9288161.857964179 compared to baseline: 0.8689967036776192\n"
     ]
    }
   ],
   "source": [
    "from sklearn.tree import DecisionTreeRegressor\n",
    "\n",
    "model = DecisionTreeRegressor(max_depth=50, min_samples_leaf=20)\n",
    "pipe = make_pipeline(preproc, model)\n",
    "score = cross_val_score(pipe, X, y, cv=5, scoring=rmse)\n",
    "print(score.std())\n",
    "score_trees = score.mean()\n",
    "comp_scores(score_trees)"
   ]
  },
  {
   "cell_type": "markdown",
   "id": "242bb894",
   "metadata": {},
   "source": [
    "### Random Forests"
   ]
  },
  {
   "cell_type": "code",
   "execution_count": 56,
   "id": "fadc7a61",
   "metadata": {},
   "outputs": [
    {
     "name": "stdout",
     "output_type": "stream",
     "text": [
      "7509352.537144539\n",
      "score: 9061472.693161117 compared to baseline: 0.8477877562038646\n"
     ]
    }
   ],
   "source": [
    "model = RandomForestRegressor(max_depth=50,min_samples_leaf=20)\n",
    "pipe = make_pipeline(preproc, model)\n",
    "score = cross_val_score(pipe, X, y, cv=5, scoring=rmse)\n",
    "print(score.std())\n",
    "score_rf = score.mean()\n",
    "comp_scores(score_rf)"
   ]
  },
  {
   "cell_type": "markdown",
   "id": "efca3ae4",
   "metadata": {},
   "source": [
    "### Boosted Trees"
   ]
  },
  {
   "cell_type": "code",
   "execution_count": 57,
   "id": "873b1c08",
   "metadata": {},
   "outputs": [
    {
     "name": "stdout",
     "output_type": "stream",
     "text": [
      "8258942.96555123\n",
      "score: 10829733.760396672 compared to baseline: 1.0132255534954342\n"
     ]
    }
   ],
   "source": [
    "model = AdaBoostRegressor(\n",
    "    base_estimator=DecisionTreeRegressor(max_depth=None))\n",
    "\n",
    "pipe = make_pipeline(preproc, model)\n",
    "score = cross_val_score(pipe, X, y, cv=5, scoring=rmse)\n",
    "print(score.std())\n",
    "score_AdaBR = score.mean()\n",
    "comp_scores(score_AdaBR)"
   ]
  },
  {
   "cell_type": "markdown",
   "id": "8487a5bc",
   "metadata": {
    "slideshow": {
     "slide_type": "subslide"
    }
   },
   "source": [
    "GradientBoostingRegressor, XGBRegressor, XGBRegressor, etc..."
   ]
  },
  {
   "cell_type": "code",
   "execution_count": 59,
   "id": "8d2665bf",
   "metadata": {},
   "outputs": [],
   "source": [
    "# For the grid-search\n",
    "rmse_neg = make_scorer(lambda y_true, y_pred: -1*mean_squared_error(y_true, y_pred)**0.5)"
   ]
  },
  {
   "cell_type": "code",
   "execution_count": 63,
   "id": "708d95a1",
   "metadata": {},
   "outputs": [
    {
     "name": "stdout",
     "output_type": "stream",
     "text": [
      "{'kneighborsregressor__n_neighbors': 30}\n"
     ]
    }
   ],
   "source": [
    "# GridSearch the KNN\n",
    "if allow_grid_searching:\n",
    "    param_grid =  {'kneighborsregressor__n_neighbors': [15,20,30,40,50,70]}\n",
    "    search_knn = GridSearchCV(pipe_knn, param_grid=param_grid, \n",
    "                              cv=3, verbose=0, scoring=rmse_neg)\n",
    "\n",
    "    search_knn.fit(X, y);\n",
    "    print(search_knn.best_params_)\n",
    "    search_knn.best_score_"
   ]
  },
  {
   "cell_type": "code",
   "execution_count": 65,
   "id": "571499a2",
   "metadata": {},
   "outputs": [
    {
     "name": "stdout",
     "output_type": "stream",
     "text": [
      "score: 9059290.563435202 compared to baseline: 0.8475835970206145\n"
     ]
    }
   ],
   "source": [
    "model = KNeighborsRegressor(n_neighbors=30)\n",
    "pipe_knn = make_pipeline(preproc, model)\n",
    "\n",
    "scores = cross_val_score(pipe_knn, X, y, cv=5, scoring=rmse)\n",
    "score_knn = scores.mean()\n",
    "comp_scores(score_knn)"
   ]
  },
  {
   "cell_type": "markdown",
   "id": "99477d46",
   "metadata": {},
   "source": [
    "instead of $0.89$"
   ]
  },
  {
   "cell_type": "code",
   "execution_count": 75,
   "id": "7c2033bc",
   "metadata": {},
   "outputs": [],
   "source": [
    "# X = data.drop(columns=['emissions'])\n",
    "# y = data['emissions']\n",
    "# X.shape\n",
    "test_size = 0.1\n",
    "\n",
    "X_train, X_test, y_train, y_test = train_test_split(\n",
    "    X, y, test_size=test_size, random_state=42)"
   ]
  },
  {
   "cell_type": "code",
   "execution_count": 76,
   "id": "3de54316",
   "metadata": {},
   "outputs": [],
   "source": [
    "# Fit on all the data without validation and predict a dataset\n",
    "pipe_knn.fit(X_train,y_train)\n",
    "y_pred = pipe_knn.predict(X_test)"
   ]
  },
  {
   "cell_type": "code",
   "execution_count": 78,
   "id": "ccabd24a",
   "metadata": {
    "slideshow": {
     "slide_type": "skip"
    }
   },
   "outputs": [
    {
     "data": {
      "text/plain": [
       "[<matplotlib.lines.Line2D at 0x7f4c8aa68e80>,\n",
       " <matplotlib.lines.Line2D at 0x7f4c8aa68fa0>]"
      ]
     },
     "execution_count": 78,
     "metadata": {},
     "output_type": "execute_result"
    },
    {
     "data": {
      "image/png": "[encoded data removed]",
      "text/plain": [
       "<Figure size 432x288 with 1 Axes>"
      ]
     },
     "metadata": {},
     "output_type": "display_data"
    }
   ],
   "source": [
    "plt.scatter(y_test,y_pred)\n",
    "plt.plot(((0,0),(1,1)))"
   ]
  },
  {
   "cell_type": "markdown",
   "id": "b814acd7",
   "metadata": {
    "slideshow": {
     "slide_type": "slide"
    }
   },
   "source": [
    "# Still to do"
   ]
  },
  {
   "cell_type": "markdown",
   "id": "c178cb9a",
   "metadata": {
    "slideshow": {
     "slide_type": "subslide"
    }
   },
   "source": [
    "## Compare the"
   ]
  },
  {
   "cell_type": "markdown",
   "id": "3286d806",
   "metadata": {
    "slideshow": {
     "slide_type": "subslide"
    }
   },
   "source": [
    "## I would have tried some grid-searching"
   ]
  },
  {
   "cell_type": "markdown",
   "id": "25423bee",
   "metadata": {
    "slideshow": {
     "slide_type": "subslide"
    }
   },
   "source": [
    "## Let's divide the dataset in two:\n",
    "### 1) sector: energy\n",
    "### 2) sector: information_service\n",
    "\n",
    "#### !! Caution !! We can do this only if we know that the sector information is always available!\n",
    "#### If new sectors are available, always use a model that comprehend them both"
   ]
  },
  {
   "cell_type": "code",
   "execution_count": 112,
   "id": "500bcc0a",
   "metadata": {},
   "outputs": [],
   "source": [
    "data_en = data[data['sector']=='energy']\n",
    "data_it = data[data['sector']=='information_service']"
   ]
  }
 ],
 "metadata": {
  "celltoolbar": "Slideshow",
  "kernelspec": {
   "display_name": "Python 3",
   "language": "python",
   "name": "python3"
  },
  "language_info": {
   "codemirror_mode": {
    "name": "ipython",
    "version": 3
   },
   "file_extension": ".py",
   "mimetype": "text/x-python",
   "name": "python",
   "nbconvert_exporter": "python",
   "pygments_lexer": "ipython3",
   "version": "3.8.10"
  }
 },
 "nbformat": 4,
 "nbformat_minor": 5
}
